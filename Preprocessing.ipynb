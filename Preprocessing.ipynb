{
 "cells": [
  {
   "cell_type": "code",
   "execution_count": 1,
   "metadata": {
    "colab": {},
    "colab_type": "code",
    "id": "8WvADNHsocYK"
   },
   "outputs": [],
   "source": [
    "import pandas as pd\n",
    "import string\n",
    "import spacy\n",
    "import os\n",
    "\n",
    "nlp = spacy.load(\"en_core_web_sm\")"
   ]
  },
  {
   "cell_type": "code",
   "execution_count": 2,
   "metadata": {
    "colab": {
     "base_uri": "https://localhost:8080/",
     "height": 417
    },
    "colab_type": "code",
    "executionInfo": {
     "elapsed": 972,
     "status": "error",
     "timestamp": 1556013617213,
     "user": {
      "displayName": "Ishaan Rawat",
      "photoUrl": "https://lh4.googleusercontent.com/-nDbX9jqMc-s/AAAAAAAAAAI/AAAAAAAAAKY/fElM7-XbeEA/s64/photo.jpg",
      "userId": "13016822730341866503"
     },
     "user_tz": -330
    },
    "id": "P-wS0dwBocYz",
    "outputId": "00d26085-dfc0-4d2c-9139-79c06a6f4f91"
   },
   "outputs": [],
   "source": [
    "df_test = pd.read_csv('./datasets/modified/test_final.csv', names= [\"Label\", \"Statement\", \"Author\"])\n",
    "df_train = pd.read_csv('./datasets/modified/train_final.csv', names= [\"Label\", \"Statement\", \"Author\"])"
   ]
  },
  {
   "cell_type": "code",
   "execution_count": 3,
   "metadata": {
    "colab": {},
    "colab_type": "code",
    "id": "4kyjxI6TocZH"
   },
   "outputs": [],
   "source": [
    "def preprocess(text):\n",
    "    doc = nlp(text)\n",
    "    stems = [token.lemma_ for token in doc if not token.is_stop]\n",
    "    space = \" \"\n",
    "    return space.join(stems)"
   ]
  },
  {
   "cell_type": "code",
   "execution_count": 4,
   "metadata": {
    "colab": {},
    "colab_type": "code",
    "id": "Glt03P5DocZe"
   },
   "outputs": [],
   "source": [
    "def add_text_info(df):\n",
    "    df['Char Count'] = df['Statement'].apply(len)\n",
    "    df['Word Count'] = df['Statement'].apply(lambda x: len(x.split()))\n",
    "    df['Punctuation Count'] = df['Statement'].apply(lambda x: len(\"\".join(_ for _ in x if _ in string.punctuation)))\n",
    "    df['Word Density'] = df['Char Count'] / (df['Word Count']+1)\n",
    "    return df"
   ]
  },
  {
   "cell_type": "code",
   "execution_count": 5,
   "metadata": {
    "colab": {},
    "colab_type": "code",
    "id": "EhNNAWJ2ocZ1"
   },
   "outputs": [],
   "source": [
    "df_train = add_text_info(df_train)\n",
    "df_test = add_text_info(df_test)"
   ]
  },
  {
   "cell_type": "code",
   "execution_count": 6,
   "metadata": {
    "colab": {},
    "colab_type": "code",
    "id": "Ed0Txyk8ocaE"
   },
   "outputs": [],
   "source": [
    "# df_train['Statement'] = df_train['Statement'].apply(preprocess)\n",
    "# df_test['Statement'] = df_test['Statement'].apply(preprocess)"
   ]
  },
  {
   "cell_type": "code",
   "execution_count": 7,
   "metadata": {},
   "outputs": [],
   "source": [
    "def get_path(filename):\n",
    "    script_dir = os.path.abspath('.')\n",
    "    return os.path.join(script_dir, 'datasets', filename)"
   ]
  },
  {
   "cell_type": "code",
   "execution_count": 8,
   "metadata": {
    "colab": {},
    "colab_type": "code",
    "id": "PTK-Qgo-ocaT"
   },
   "outputs": [],
   "source": [
    "train = df_train.to_csv(get_path(\"train_data.csv\"), index=False)"
   ]
  },
  {
   "cell_type": "code",
   "execution_count": 9,
   "metadata": {
    "colab": {},
    "colab_type": "code",
    "id": "S2r2EOJIocak"
   },
   "outputs": [],
   "source": [
    "test = df_test.to_csv(get_path(\"test_data.csv\"), index=False)"
   ]
  }
 ],
 "metadata": {
  "colab": {
   "name": "Preprocessing.ipynb",
   "provenance": [],
   "version": "0.3.2"
  },
  "kernelspec": {
   "display_name": "Python 3",
   "language": "python",
   "name": "python3"
  },
  "language_info": {
   "codemirror_mode": {
    "name": "ipython",
    "version": 3
   },
   "file_extension": ".py",
   "mimetype": "text/x-python",
   "name": "python",
   "nbconvert_exporter": "python",
   "pygments_lexer": "ipython3",
   "version": "3.7.3"
  }
 },
 "nbformat": 4,
 "nbformat_minor": 1
}
